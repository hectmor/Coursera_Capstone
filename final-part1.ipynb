{
 "cells": [
  {
   "cell_type": "markdown",
   "metadata": {},
   "source": [
    "# Final project for the Capstone course"
   ]
  },
  {
   "cell_type": "markdown",
   "metadata": {},
   "source": [
    "## Problem:\n",
    "The city of Regensburg is a small, academic, medieval, and historic city, due to this the not only the tourism around it but the flow of students, in times without the pandemic, are constant. The city is structured into six districts, some more oriented for academic purposes and some for tourism. \n",
    "The problem to address in this notebook is:\n",
    "Which district has the best Cofé shop and which one is the best to open a Cofé shop, this taking into account the distribution of the current Cofé shops around the city and the number of clients using the tips."
   ]
  },
  {
   "cell_type": "markdown",
   "metadata": {},
   "source": [
    "## Data: \n",
    "### Sources:\n",
    "The data has been taken from different places according its type:\n",
    "\n",
    "1. For the Postal code and the districts of the city of Regensburg:\n",
    "the Deutsche Post website: https://www.postdirekt.de/plzserver/PlzSearchServlet.\n",
    "\n",
    "There one can obtain the Postal code for the six districts and for all the streets on the city. For example:\n",
    "\n",
    "| Postal Code | City | District | Street | \n",
    "|-------------|------|----------|--------|\n",
    "|93051\t| Regensburg | Großprüfening-Dechbetten-Königswiesen | An der Brunnstube|\n",
    "\n",
    "2. For the latitude and longitude we used the location data platforms :\n",
    "    * Foursquare: https://foursquare.com/\n",
    "    * Strassenkatalog: https://www.strassenkatalog.de\n",
    "    \n",
    "### Description:\n",
    " | column name | Type    | Description            |\n",
    " |-------------|---------|------------------------|\n",
    " | PostalCode  | int64   | District's postal code |\n",
    " | City        | object  | City's name            |\n",
    " | District    | object  | District's name        |\n",
    " | Latitude    | float64 | District's latitude    | \n",
    " | Longitude   | float64 | District's longitude   |"
   ]
  },
  {
   "cell_type": "markdown",
   "metadata": {},
   "source": [
    "## Metodology:\n",
    "The methodology to solve the problem will be:\n",
    "- Determine the six districts in a City map using its Postal Code, latitude, and longitude. \n",
    "- Determine the flow of people for each district, this finding the number of Cofé shops on each district and its number of tips using the Foursquare API.\n",
    "- Find the distribution of the Cofé shops around the districts on a City map.\n",
    "- Determine the best district for the new cofé shop using the distribution of the Cofé shop and its number of tips."
   ]
  },
  {
   "cell_type": "code",
   "execution_count": null,
   "metadata": {},
   "outputs": [],
   "source": []
  }
 ],
 "metadata": {
  "kernelspec": {
   "display_name": "Python 3",
   "language": "python",
   "name": "python3"
  },
  "language_info": {
   "codemirror_mode": {
    "name": "ipython",
    "version": 3
   },
   "file_extension": ".py",
   "mimetype": "text/x-python",
   "name": "python",
   "nbconvert_exporter": "python",
   "pygments_lexer": "ipython3",
   "version": "3.7.4"
  }
 },
 "nbformat": 4,
 "nbformat_minor": 4
}
